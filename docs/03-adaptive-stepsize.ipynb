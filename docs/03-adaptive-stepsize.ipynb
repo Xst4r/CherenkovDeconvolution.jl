{
 "cells": [
  {
   "cell_type": "markdown",
   "metadata": {},
   "source": [
    "# The Stepsize of DSEA+\n",
    "\n",
    "DSEA+ extends the original DSEA with an adaptively chosen stepsize between iterations. This tutorial assumes you already know the other notebook at `doc/01-getting-started.ipynb`."
   ]
  },
  {
   "cell_type": "code",
   "execution_count": 1,
   "metadata": {},
   "outputs": [],
   "source": [
    "using CherenkovDeconvolution\n",
    "using ScikitLearn, MLDataUtils, Random\n",
    "using Discretizers: encode, CategoricalDiscretizer\n",
    "\n",
    "# load the example data, encode labels with integers\n",
    "X, y_labels, _ = load_iris()\n",
    "y = encode(CategoricalDiscretizer(y_labels), y_labels)\n",
    "\n",
    "# split the data into training and observed data sets\n",
    "Random.seed!(42) # make split reproducible\n",
    "(X_train, y_train), (X_data, y_data) = splitobs(shuffleobs((X', y), obsdim = 1), obsdim = 1)\n",
    "\n",
    "# prepare the arguments for all deconvolution methods\n",
    "@sk_import naive_bayes : GaussianNB # naive Bayes for DSEA\n",
    "binning = TreeBinning(3); # up to 3 clusters for IBU & RUN"
   ]
  },
  {
   "cell_type": "markdown",
   "metadata": {},
   "source": [
    "## Adaptive Step Size\n",
    "\n",
    "The adaptive step size is specified through the `alpha` argument of DSEA. This argument expects a `CherenkovDeconvolution.Stepsize` object, for which CherenkovDeconvolution.jl provides several implementations.\n",
    "\n",
    "The most important implementation, `RunStepsize` uses the objective function of the regularized unfolding (RUN) to determine the step size adaptively. We further specify `epsilon`, the minimum Chi square distance between iterations. Convergence is assumed if the distance drops below this threshold.\n",
    "\n",
    "In this example, convergence is assumed immediately because the input- and output distributions are approximately equal."
   ]
  },
  {
   "cell_type": "code",
   "execution_count": 2,
   "metadata": {},
   "outputs": [
    {
     "name": "stderr",
     "output_type": "stream",
     "text": [
      "┌ Info: DSEA iteration 1/100 uses alpha = 2.8284110834738245e-13 (chi2s = 2.237160223400213e-28)\n",
      "└ @ CherenkovDeconvolution.Methods /home/bunse/.julia/dev/CherenkovDeconvolution/src/methods/dsea.jl:169\n",
      "┌ Info: DSEA convergence assumed from chi2s = 2.237160223400213e-28 < epsilon = 1.0e-6\n",
      "└ @ CherenkovDeconvolution.Methods /home/bunse/.julia/dev/CherenkovDeconvolution/src/methods/dsea.jl:174\n"
     ]
    },
    {
     "data": {
      "text/plain": [
       "3-element Array{Float64,1}:\n",
       " 0.3333333333333333\n",
       " 0.3333333333333394\n",
       " 0.3333333333333272"
      ]
     },
     "execution_count": 2,
     "metadata": {},
     "output_type": "execute_result"
    }
   ],
   "source": [
    "stepsize = RunStepsize(binning; decay=true)\n",
    "dsea = DSEA(GaussianNB(); K=100, epsilon=1e-6, stepsize=stepsize)\n",
    "f_dsea = deconvolve(dsea, X_data, X_train, y_train)"
   ]
  },
  {
   "cell_type": "markdown",
   "metadata": {},
   "source": [
    "## Other Step Sizes\n",
    "\n",
    "Another adaptive step size, based on a least-square objective, is the `LsqStepsize`. Two decaying step sizes can be obtained with `ExpDecayStepsize` and `MulDecayStepsize`. There is also a `ConstantStepsize`.\n",
    "\n",
    "If you want to implement additional step size strategies, you only need an implementation of the `stepsize` method for a custom `Stepsize` type.\n",
    "\n",
    "## Further Documentation"
   ]
  },
  {
   "cell_type": "code",
   "execution_count": 3,
   "metadata": {},
   "outputs": [
    {
     "data": {
      "text/latex": [
       "\\begin{verbatim}\n",
       "value(s, k, p, f, a)\n",
       "\\end{verbatim}\n",
       "Use the \\texttt{Stepsize} object \\texttt{s} to compute a step size for iteration number \\texttt{k} with the search direction \\texttt{p}, the previous estimate \\texttt{f}, and the previous step size \\texttt{a}.\n",
       "\n",
       "\\textbf{See also:} \\texttt{ConstantStepsize}, \\texttt{RunStepsize}, \\texttt{LsqStepsize}, \\texttt{ExpDecayStepsize}, \\texttt{MulDecayStepsize}.\n",
       "\n"
      ],
      "text/markdown": [
       "```\n",
       "value(s, k, p, f, a)\n",
       "```\n",
       "\n",
       "Use the `Stepsize` object `s` to compute a step size for iteration number `k` with the search direction `p`, the previous estimate `f`, and the previous step size `a`.\n",
       "\n",
       "**See also:** `ConstantStepsize`, `RunStepsize`, `LsqStepsize`, `ExpDecayStepsize`, `MulDecayStepsize`.\n"
      ],
      "text/plain": [
       "\u001b[36m  value(s, k, p, f, a)\u001b[39m\n",
       "\n",
       "  Use the \u001b[36mStepsize\u001b[39m object \u001b[36ms\u001b[39m to compute a step size for iteration number \u001b[36mk\u001b[39m with\n",
       "  the search direction \u001b[36mp\u001b[39m, the previous estimate \u001b[36mf\u001b[39m, and the previous step size\n",
       "  \u001b[36ma\u001b[39m.\n",
       "\n",
       "  \u001b[1mSee also:\u001b[22m \u001b[36mConstantStepsize\u001b[39m, \u001b[36mRunStepsize\u001b[39m, \u001b[36mLsqStepsize\u001b[39m, \u001b[36mExpDecayStepsize\u001b[39m,\n",
       "  \u001b[36mMulDecayStepsize\u001b[39m."
      ]
     },
     "execution_count": 3,
     "metadata": {},
     "output_type": "execute_result"
    }
   ],
   "source": [
    "?Stepsizes.value"
   ]
  },
  {
   "cell_type": "code",
   "execution_count": 4,
   "metadata": {},
   "outputs": [
    {
     "name": "stdout",
     "output_type": "stream",
     "text": [
      "search: \u001b[0m\u001b[1mR\u001b[22m\u001b[0m\u001b[1mu\u001b[22m\u001b[0m\u001b[1mn\u001b[22m\u001b[0m\u001b[1mS\u001b[22m\u001b[0m\u001b[1mt\u001b[22m\u001b[0m\u001b[1me\u001b[22m\u001b[0m\u001b[1mp\u001b[22m\u001b[0m\u001b[1ms\u001b[22m\u001b[0m\u001b[1mi\u001b[22m\u001b[0m\u001b[1mz\u001b[22m\u001b[0m\u001b[1me\u001b[22m\n",
      "\n"
     ]
    },
    {
     "data": {
      "text/latex": [
       "\\begin{verbatim}\n",
       "RunStepsize(binning; kwargs...)\n",
       "\\end{verbatim}\n",
       "Adapt the step size by maximizing the likelihood of the next estimate in the search direction of the current iteration, much like in the \\texttt{RUN} deconvolution method.\n",
       "\n",
       "\\textbf{Keyword arguments:}\n",
       "\n",
       "\\begin{itemize}\n",
       "\\item \\texttt{decay = false} specifies whether \\texttt{a\\_k+1 <= a\\_k} is enforced so that step sizes never increase.\n",
       "\n",
       "\n",
       "\\item \\texttt{tau = 0.0} determines the regularisation strength.\n",
       "\n",
       "\n",
       "\\item \\texttt{warn = false} specifies whether warnings should be emitted for debugging purposes.\n",
       "\n",
       "\\end{itemize}\n"
      ],
      "text/markdown": [
       "```\n",
       "RunStepsize(binning; kwargs...)\n",
       "```\n",
       "\n",
       "Adapt the step size by maximizing the likelihood of the next estimate in the search direction of the current iteration, much like in the `RUN` deconvolution method.\n",
       "\n",
       "**Keyword arguments:**\n",
       "\n",
       "  * `decay = false` specifies whether `a_k+1 <= a_k` is enforced so that step sizes never increase.\n",
       "  * `tau = 0.0` determines the regularisation strength.\n",
       "  * `warn = false` specifies whether warnings should be emitted for debugging purposes.\n"
      ],
      "text/plain": [
       "\u001b[36m  RunStepsize(binning; kwargs...)\u001b[39m\n",
       "\n",
       "  Adapt the step size by maximizing the likelihood of the next estimate in the\n",
       "  search direction of the current iteration, much like in the \u001b[36mRUN\u001b[39m\n",
       "  deconvolution method.\n",
       "\n",
       "  \u001b[1mKeyword arguments:\u001b[22m\n",
       "\n",
       "    •    \u001b[36mdecay = false\u001b[39m specifies whether \u001b[36ma_k+1 <= a_k\u001b[39m is enforced so that\n",
       "        step sizes never increase.\n",
       "\n",
       "    •    \u001b[36mtau = 0.0\u001b[39m determines the regularisation strength.\n",
       "\n",
       "    •    \u001b[36mwarn = false\u001b[39m specifies whether warnings should be emitted for\n",
       "        debugging purposes."
      ]
     },
     "execution_count": 4,
     "metadata": {},
     "output_type": "execute_result"
    }
   ],
   "source": [
    "?RunStepsize"
   ]
  },
  {
   "cell_type": "code",
   "execution_count": 5,
   "metadata": {},
   "outputs": [
    {
     "name": "stdout",
     "output_type": "stream",
     "text": [
      "search: \u001b[0m\u001b[1mL\u001b[22m\u001b[0m\u001b[1ms\u001b[22m\u001b[0m\u001b[1mq\u001b[22m\u001b[0m\u001b[1mS\u001b[22m\u001b[0m\u001b[1mt\u001b[22m\u001b[0m\u001b[1me\u001b[22m\u001b[0m\u001b[1mp\u001b[22m\u001b[0m\u001b[1ms\u001b[22m\u001b[0m\u001b[1mi\u001b[22m\u001b[0m\u001b[1mz\u001b[22m\u001b[0m\u001b[1me\u001b[22m\n",
      "\n"
     ]
    },
    {
     "data": {
      "text/latex": [
       "\\begin{verbatim}\n",
       "LsqStepsize(binning; kwargs...)\n",
       "\\end{verbatim}\n",
       "Adapt the step size by solving a least squares objective in the search direction of the current iteration.\n",
       "\n",
       "\\textbf{Keyword arguments:}\n",
       "\n",
       "\\begin{itemize}\n",
       "\\item \\texttt{decay = false} specifies whether \\texttt{a\\_k+1 <= a\\_k} is enforced so that step sizes never increase.\n",
       "\n",
       "\n",
       "\\item \\texttt{tau = 0.0} determines the regularisation strength.\n",
       "\n",
       "\n",
       "\\item \\texttt{warn = false} specifies whether warnings should be emitted for debugging purposes.\n",
       "\n",
       "\\end{itemize}\n"
      ],
      "text/markdown": [
       "```\n",
       "LsqStepsize(binning; kwargs...)\n",
       "```\n",
       "\n",
       "Adapt the step size by solving a least squares objective in the search direction of the current iteration.\n",
       "\n",
       "**Keyword arguments:**\n",
       "\n",
       "  * `decay = false` specifies whether `a_k+1 <= a_k` is enforced so that step sizes never increase.\n",
       "  * `tau = 0.0` determines the regularisation strength.\n",
       "  * `warn = false` specifies whether warnings should be emitted for debugging purposes.\n"
      ],
      "text/plain": [
       "\u001b[36m  LsqStepsize(binning; kwargs...)\u001b[39m\n",
       "\n",
       "  Adapt the step size by solving a least squares objective in the search\n",
       "  direction of the current iteration.\n",
       "\n",
       "  \u001b[1mKeyword arguments:\u001b[22m\n",
       "\n",
       "    •    \u001b[36mdecay = false\u001b[39m specifies whether \u001b[36ma_k+1 <= a_k\u001b[39m is enforced so that\n",
       "        step sizes never increase.\n",
       "\n",
       "    •    \u001b[36mtau = 0.0\u001b[39m determines the regularisation strength.\n",
       "\n",
       "    •    \u001b[36mwarn = false\u001b[39m specifies whether warnings should be emitted for\n",
       "        debugging purposes."
      ]
     },
     "execution_count": 5,
     "metadata": {},
     "output_type": "execute_result"
    }
   ],
   "source": [
    "?LsqStepsize"
   ]
  },
  {
   "cell_type": "code",
   "execution_count": 6,
   "metadata": {},
   "outputs": [
    {
     "name": "stdout",
     "output_type": "stream",
     "text": [
      "search: \u001b[0m\u001b[1mE\u001b[22m\u001b[0m\u001b[1mx\u001b[22m\u001b[0m\u001b[1mp\u001b[22m\u001b[0m\u001b[1mD\u001b[22m\u001b[0m\u001b[1me\u001b[22m\u001b[0m\u001b[1mc\u001b[22m\u001b[0m\u001b[1ma\u001b[22m\u001b[0m\u001b[1my\u001b[22m\u001b[0m\u001b[1mS\u001b[22m\u001b[0m\u001b[1mt\u001b[22m\u001b[0m\u001b[1me\u001b[22m\u001b[0m\u001b[1mp\u001b[22m\u001b[0m\u001b[1ms\u001b[22m\u001b[0m\u001b[1mi\u001b[22m\u001b[0m\u001b[1mz\u001b[22m\u001b[0m\u001b[1me\u001b[22m\n",
      "\n"
     ]
    },
    {
     "data": {
      "text/latex": [
       "\\begin{verbatim}\n",
       "ExpDecayStepsize(eta, a=1.0)\n",
       "\\end{verbatim}\n",
       "Reduce the first stepsize \\texttt{a} by \\texttt{eta} in each iteration:\n",
       "\n",
       "\\begin{verbatim}\n",
       "value(ExpDecayStepsize(eta, a), k, ...) == a * eta^(k-1)\n",
       "\\end{verbatim}\n"
      ],
      "text/markdown": [
       "```\n",
       "ExpDecayStepsize(eta, a=1.0)\n",
       "```\n",
       "\n",
       "Reduce the first stepsize `a` by `eta` in each iteration:\n",
       "\n",
       "```\n",
       "value(ExpDecayStepsize(eta, a), k, ...) == a * eta^(k-1)\n",
       "```\n"
      ],
      "text/plain": [
       "\u001b[36m  ExpDecayStepsize(eta, a=1.0)\u001b[39m\n",
       "\n",
       "  Reduce the first stepsize \u001b[36ma\u001b[39m by \u001b[36meta\u001b[39m in each iteration:\n",
       "\n",
       "\u001b[36m  value(ExpDecayStepsize(eta, a), k, ...) == a * eta^(k-1)\u001b[39m"
      ]
     },
     "execution_count": 6,
     "metadata": {},
     "output_type": "execute_result"
    }
   ],
   "source": [
    "?ExpDecayStepsize"
   ]
  },
  {
   "cell_type": "code",
   "execution_count": 7,
   "metadata": {},
   "outputs": [
    {
     "name": "stdout",
     "output_type": "stream",
     "text": [
      "search: \u001b[0m\u001b[1mM\u001b[22m\u001b[0m\u001b[1mu\u001b[22m\u001b[0m\u001b[1ml\u001b[22m\u001b[0m\u001b[1mD\u001b[22m\u001b[0m\u001b[1me\u001b[22m\u001b[0m\u001b[1mc\u001b[22m\u001b[0m\u001b[1ma\u001b[22m\u001b[0m\u001b[1my\u001b[22m\u001b[0m\u001b[1mS\u001b[22m\u001b[0m\u001b[1mt\u001b[22m\u001b[0m\u001b[1me\u001b[22m\u001b[0m\u001b[1mp\u001b[22m\u001b[0m\u001b[1ms\u001b[22m\u001b[0m\u001b[1mi\u001b[22m\u001b[0m\u001b[1mz\u001b[22m\u001b[0m\u001b[1me\u001b[22m\n",
      "\n"
     ]
    },
    {
     "data": {
      "text/latex": [
       "\\begin{verbatim}\n",
       "MulDecayStepsize(eta, a=1.0)\n",
       "\\end{verbatim}\n",
       "Reduce the first stepsize \\texttt{a} by \\texttt{eta} in each iteration:\n",
       "\n",
       "\\begin{verbatim}\n",
       "value(MulDecayStepsize(eta, a), k, ...) == a * k^(eta-1)\n",
       "\\end{verbatim}\n"
      ],
      "text/markdown": [
       "```\n",
       "MulDecayStepsize(eta, a=1.0)\n",
       "```\n",
       "\n",
       "Reduce the first stepsize `a` by `eta` in each iteration:\n",
       "\n",
       "```\n",
       "value(MulDecayStepsize(eta, a), k, ...) == a * k^(eta-1)\n",
       "```\n"
      ],
      "text/plain": [
       "\u001b[36m  MulDecayStepsize(eta, a=1.0)\u001b[39m\n",
       "\n",
       "  Reduce the first stepsize \u001b[36ma\u001b[39m by \u001b[36meta\u001b[39m in each iteration:\n",
       "\n",
       "\u001b[36m  value(MulDecayStepsize(eta, a), k, ...) == a * k^(eta-1)\u001b[39m"
      ]
     },
     "execution_count": 7,
     "metadata": {},
     "output_type": "execute_result"
    }
   ],
   "source": [
    "?MulDecayStepsize"
   ]
  },
  {
   "cell_type": "code",
   "execution_count": 8,
   "metadata": {},
   "outputs": [
    {
     "name": "stdout",
     "output_type": "stream",
     "text": [
      "search: \u001b[0m\u001b[1mC\u001b[22m\u001b[0m\u001b[1mo\u001b[22m\u001b[0m\u001b[1mn\u001b[22m\u001b[0m\u001b[1ms\u001b[22m\u001b[0m\u001b[1mt\u001b[22m\u001b[0m\u001b[1ma\u001b[22m\u001b[0m\u001b[1mn\u001b[22m\u001b[0m\u001b[1mt\u001b[22m\u001b[0m\u001b[1mS\u001b[22m\u001b[0m\u001b[1mt\u001b[22m\u001b[0m\u001b[1me\u001b[22m\u001b[0m\u001b[1mp\u001b[22m\u001b[0m\u001b[1ms\u001b[22m\u001b[0m\u001b[1mi\u001b[22m\u001b[0m\u001b[1mz\u001b[22m\u001b[0m\u001b[1me\u001b[22m\n",
      "\n"
     ]
    },
    {
     "data": {
      "text/latex": [
       "\\begin{verbatim}\n",
       "ConstantStepsize(alpha)\n",
       "\\end{verbatim}\n",
       "Choose the constant step size \\texttt{alpha} in every iteration.\n",
       "\n"
      ],
      "text/markdown": [
       "```\n",
       "ConstantStepsize(alpha)\n",
       "```\n",
       "\n",
       "Choose the constant step size `alpha` in every iteration.\n"
      ],
      "text/plain": [
       "\u001b[36m  ConstantStepsize(alpha)\u001b[39m\n",
       "\n",
       "  Choose the constant step size \u001b[36malpha\u001b[39m in every iteration."
      ]
     },
     "execution_count": 8,
     "metadata": {},
     "output_type": "execute_result"
    }
   ],
   "source": [
    "?ConstantStepsize"
   ]
  },
  {
   "cell_type": "code",
   "execution_count": 9,
   "metadata": {},
   "outputs": [
    {
     "name": "stdout",
     "output_type": "stream",
     "text": [
      "search: \u001b[0m\u001b[1mD\u001b[22m\u001b[0m\u001b[1mE\u001b[22m\u001b[0m\u001b[1mF\u001b[22m\u001b[0m\u001b[1mA\u001b[22m\u001b[0m\u001b[1mU\u001b[22m\u001b[0m\u001b[1mL\u001b[22m\u001b[0m\u001b[1mT\u001b[22m\u001b[0m\u001b[1m_\u001b[22m\u001b[0m\u001b[1mS\u001b[22m\u001b[0m\u001b[1mT\u001b[22m\u001b[0m\u001b[1mE\u001b[22m\u001b[0m\u001b[1mP\u001b[22m\u001b[0m\u001b[1mS\u001b[22m\u001b[0m\u001b[1mI\u001b[22m\u001b[0m\u001b[1mZ\u001b[22m\u001b[0m\u001b[1mE\u001b[22m\n",
      "\n"
     ]
    },
    {
     "data": {
      "text/latex": [
       "\\begin{verbatim}\n",
       "const DEFAULT_STEPSIZE = ConstantStepsize(1.0)\n",
       "\\end{verbatim}\n",
       "The default stepsize in all deconvolution methods.\n",
       "\n"
      ],
      "text/markdown": [
       "```\n",
       "const DEFAULT_STEPSIZE = ConstantStepsize(1.0)\n",
       "```\n",
       "\n",
       "The default stepsize in all deconvolution methods.\n"
      ],
      "text/plain": [
       "\u001b[36m  const DEFAULT_STEPSIZE = ConstantStepsize(1.0)\u001b[39m\n",
       "\n",
       "  The default stepsize in all deconvolution methods."
      ]
     },
     "execution_count": 9,
     "metadata": {},
     "output_type": "execute_result"
    }
   ],
   "source": [
    "?DEFAULT_STEPSIZE"
   ]
  }
 ],
 "metadata": {
  "kernelspec": {
   "display_name": "Julia 1.3.0",
   "language": "julia",
   "name": "julia-1.3"
  },
  "language_info": {
   "file_extension": ".jl",
   "mimetype": "application/julia",
   "name": "julia",
   "version": "1.3.0"
  }
 },
 "nbformat": 4,
 "nbformat_minor": 2
}
