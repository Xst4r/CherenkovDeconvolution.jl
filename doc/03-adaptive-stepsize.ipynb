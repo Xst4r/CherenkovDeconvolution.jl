{
 "cells": [
  {
   "cell_type": "markdown",
   "metadata": {},
   "source": [
    "# The Stepsize of DSEA+\n",
    "\n",
    "DSEA+ extends the original DSEA with an adaptively chosen stepsize between iterations. This tutorial assumes you already know the other notebook at `doc/01-getting-started.ipynb`."
   ]
  },
  {
   "cell_type": "code",
   "execution_count": 1,
   "metadata": {},
   "outputs": [],
   "source": [
    "using CherenkovDeconvolution\n",
    "using ScikitLearn, MLDataUtils, Random\n",
    "using Discretizers: encode, CategoricalDiscretizer\n",
    "\n",
    "# load the example data, encode labels with integers\n",
    "X, y_labels, _ = load_iris()\n",
    "y = encode(CategoricalDiscretizer(y_labels), y_labels)\n",
    "\n",
    "# split the data into training and observed data sets\n",
    "Random.seed!(42) # make split reproducible\n",
    "(X_train, y_train), (X_data, y_data) = splitobs(shuffleobs((X', y), obsdim = 1), obsdim = 1)\n",
    "\n",
    "# discretize the feature space\n",
    "td = Binnings.TreeDiscretizer(X_train, y_train, 3) # obtain up to 3 clusters\n",
    "x_train = encode(td, X_train)\n",
    "x_data  = encode(td, X_data)\n",
    "\n",
    "# also prepare the classifier for DSEA\n",
    "@sk_import naive_bayes : GaussianNB\n",
    "tp_function = Binnings.train_and_predict_proba(GaussianNB());"
   ]
  },
  {
   "cell_type": "markdown",
   "metadata": {},
   "source": [
    "## Adaptive Step Size\n",
    "\n",
    "The adaptive step size is specified through the `alpha` argument of DSEA. This argument expects a `CherenkovDeconvolution.Stepsize` object, for which CherenkovDeconvolution.jl provides several implementations.\n",
    "\n",
    "The most important implementation, `RunStepsize` uses the objective function of the regularized unfolding (RUN) to determine the step size adaptively. We further specify `epsilon`, the minimum Chi square distance between iterations. Convergence is assumed if the distance drops below this threshold.\n",
    "\n",
    "In this example, convergence is assumed immediately because the input- and output distributions are approximately equal."
   ]
  },
  {
   "cell_type": "code",
   "execution_count": 2,
   "metadata": {},
   "outputs": [
    {
     "name": "stderr",
     "output_type": "stream",
     "text": [
      "┌ Info: DSEA iteration 1/100 uses alpha = 2.828411083473901e-13 (chi2s = 2.237160223400213e-28)\n",
      "└ @ CherenkovDeconvolution /home/bunse/.julia/dev/CherenkovDeconvolution/src/methods/dsea.jl:150\n",
      "┌ Info: DSEA convergence assumed from chi2s = 2.237160223400213e-28 < epsilon = 1.0e-6\n",
      "└ @ CherenkovDeconvolution /home/bunse/.julia/dev/CherenkovDeconvolution/src/methods/dsea.jl:155\n"
     ]
    },
    {
     "data": {
      "text/plain": [
       "3-element Array{Float64,1}:\n",
       " 0.3333333333333333\n",
       " 0.3333333333333394\n",
       " 0.3333333333333272"
      ]
     },
     "execution_count": 2,
     "metadata": {},
     "output_type": "execute_result"
    }
   ],
   "source": [
    "alpha = RunStepsize(x_data, x_train, y_train; decay=true)\n",
    "f_dsea = dsea(X_data, X_train, y_train, tp_function, K=100, epsilon=1e-6, alpha=alpha)"
   ]
  },
  {
   "cell_type": "markdown",
   "metadata": {},
   "source": [
    "## Other Step Sizes\n",
    "\n",
    "Another adaptive step size, based on a least-square objective, is the `LsqStepsize`. Two decaying step sizes can be obtained with `ExpDecayStepsize` and `MulDecayStepsize`. There is also a `ConstantStepsize`.\n",
    "\n",
    "If you want to implement additional step size strategies, you only need an implementation of the `stepsize` method for a custom `Stepsize` type.\n",
    "\n",
    "## Further Documentation"
   ]
  },
  {
   "cell_type": "code",
   "execution_count": 3,
   "metadata": {},
   "outputs": [
    {
     "name": "stdout",
     "output_type": "stream",
     "text": [
      "search: \u001b[0m\u001b[1ms\u001b[22m\u001b[0m\u001b[1mt\u001b[22m\u001b[0m\u001b[1me\u001b[22m\u001b[0m\u001b[1mp\u001b[22m\u001b[0m\u001b[1ms\u001b[22m\u001b[0m\u001b[1mi\u001b[22m\u001b[0m\u001b[1mz\u001b[22m\u001b[0m\u001b[1me\u001b[22m \u001b[0m\u001b[1mS\u001b[22m\u001b[0m\u001b[1mt\u001b[22m\u001b[0m\u001b[1me\u001b[22m\u001b[0m\u001b[1mp\u001b[22m\u001b[0m\u001b[1ms\u001b[22m\u001b[0m\u001b[1mi\u001b[22m\u001b[0m\u001b[1mz\u001b[22m\u001b[0m\u001b[1me\u001b[22m Run\u001b[0m\u001b[1mS\u001b[22m\u001b[0m\u001b[1mt\u001b[22m\u001b[0m\u001b[1me\u001b[22m\u001b[0m\u001b[1mp\u001b[22m\u001b[0m\u001b[1ms\u001b[22m\u001b[0m\u001b[1mi\u001b[22m\u001b[0m\u001b[1mz\u001b[22m\u001b[0m\u001b[1me\u001b[22m L\u001b[0m\u001b[1ms\u001b[22mqS\u001b[0m\u001b[1mt\u001b[22m\u001b[0m\u001b[1me\u001b[22m\u001b[0m\u001b[1mp\u001b[22m\u001b[0m\u001b[1ms\u001b[22m\u001b[0m\u001b[1mi\u001b[22m\u001b[0m\u001b[1mz\u001b[22m\u001b[0m\u001b[1me\u001b[22m MulDecay\u001b[0m\u001b[1mS\u001b[22m\u001b[0m\u001b[1mt\u001b[22m\u001b[0m\u001b[1me\u001b[22m\u001b[0m\u001b[1mp\u001b[22m\u001b[0m\u001b[1ms\u001b[22m\u001b[0m\u001b[1mi\u001b[22m\u001b[0m\u001b[1mz\u001b[22m\u001b[0m\u001b[1me\u001b[22m\n",
      "\n"
     ]
    },
    {
     "data": {
      "text/latex": [
       "\\begin{verbatim}\n",
       "stepsize(s, k, p, f, a)\n",
       "\\end{verbatim}\n",
       "Use the \\texttt{Stepsize} object \\texttt{s} to compute a step size for iteration number \\texttt{k} with the search direction \\texttt{p}, the previous estimate \\texttt{f}, and the previous step size \\texttt{a}.\n",
       "\n",
       "\\textbf{See also:} \\texttt{ConstantStepsize}, \\texttt{RunStepsize}, \\texttt{LsqStepsize}, \\texttt{ExpDecayStepsize}, \\texttt{MulDecayStepsize}.\n",
       "\n"
      ],
      "text/markdown": [
       "```\n",
       "stepsize(s, k, p, f, a)\n",
       "```\n",
       "\n",
       "Use the `Stepsize` object `s` to compute a step size for iteration number `k` with the search direction `p`, the previous estimate `f`, and the previous step size `a`.\n",
       "\n",
       "**See also:** `ConstantStepsize`, `RunStepsize`, `LsqStepsize`, `ExpDecayStepsize`, `MulDecayStepsize`.\n"
      ],
      "text/plain": [
       "\u001b[36m  stepsize(s, k, p, f, a)\u001b[39m\n",
       "\n",
       "  Use the \u001b[36mStepsize\u001b[39m object \u001b[36ms\u001b[39m to compute a step size for iteration number \u001b[36mk\u001b[39m with\n",
       "  the search direction \u001b[36mp\u001b[39m, the previous estimate \u001b[36mf\u001b[39m, and the previous step size\n",
       "  \u001b[36ma\u001b[39m.\n",
       "\n",
       "  \u001b[1mSee also:\u001b[22m \u001b[36mConstantStepsize\u001b[39m, \u001b[36mRunStepsize\u001b[39m, \u001b[36mLsqStepsize\u001b[39m, \u001b[36mExpDecayStepsize\u001b[39m,\n",
       "  \u001b[36mMulDecayStepsize\u001b[39m."
      ]
     },
     "execution_count": 3,
     "metadata": {},
     "output_type": "execute_result"
    }
   ],
   "source": [
    "?stepsize"
   ]
  },
  {
   "cell_type": "code",
   "execution_count": 4,
   "metadata": {},
   "outputs": [
    {
     "name": "stdout",
     "output_type": "stream",
     "text": [
      "search: \u001b[0m\u001b[1mR\u001b[22m\u001b[0m\u001b[1mu\u001b[22m\u001b[0m\u001b[1mn\u001b[22m\u001b[0m\u001b[1mS\u001b[22m\u001b[0m\u001b[1mt\u001b[22m\u001b[0m\u001b[1me\u001b[22m\u001b[0m\u001b[1mp\u001b[22m\u001b[0m\u001b[1ms\u001b[22m\u001b[0m\u001b[1mi\u001b[22m\u001b[0m\u001b[1mz\u001b[22m\u001b[0m\u001b[1me\u001b[22m\n",
      "\n"
     ]
    },
    {
     "data": {
      "text/latex": [
       "\\begin{verbatim}\n",
       "RunStepsize(x_data, x_train, y_train[, tau=0; bins_y, bins_x, warn=false, decay=false])\n",
       "\\end{verbatim}\n",
       "Adapt the step size by maximizing the likelihood of the next estimate in the search direction of the current iteration.\n",
       "\n",
       "The arguments of this function reflect a discretized deconvolution problem, as used in RUN. Setting \\texttt{decay=true} will enforce that a\\emph{k+1 <= a}k, i.e. the step sizes never increase.\n",
       "\n",
       "\\textbf{See also:} \\texttt{OptimizedStepsize}.\n",
       "\n"
      ],
      "text/markdown": [
       "```\n",
       "RunStepsize(x_data, x_train, y_train[, tau=0; bins_y, bins_x, warn=false, decay=false])\n",
       "```\n",
       "\n",
       "Adapt the step size by maximizing the likelihood of the next estimate in the search direction of the current iteration.\n",
       "\n",
       "The arguments of this function reflect a discretized deconvolution problem, as used in RUN. Setting `decay=true` will enforce that a*k+1 <= a*k, i.e. the step sizes never increase.\n",
       "\n",
       "**See also:** `OptimizedStepsize`.\n"
      ],
      "text/plain": [
       "\u001b[36m  RunStepsize(x_data, x_train, y_train[, tau=0; bins_y, bins_x, warn=false, decay=false])\u001b[39m\n",
       "\n",
       "  Adapt the step size by maximizing the likelihood of the next estimate in the\n",
       "  search direction of the current iteration.\n",
       "\n",
       "  The arguments of this function reflect a discretized deconvolution problem,\n",
       "  as used in RUN. Setting \u001b[36mdecay=true\u001b[39m will enforce that a\u001b[4mk+1 <= a\u001b[24mk, i.e. the\n",
       "  step sizes never increase.\n",
       "\n",
       "  \u001b[1mSee also:\u001b[22m \u001b[36mOptimizedStepsize\u001b[39m."
      ]
     },
     "execution_count": 4,
     "metadata": {},
     "output_type": "execute_result"
    }
   ],
   "source": [
    "?RunStepsize"
   ]
  },
  {
   "cell_type": "code",
   "execution_count": 5,
   "metadata": {},
   "outputs": [
    {
     "name": "stdout",
     "output_type": "stream",
     "text": [
      "search: \u001b[0m\u001b[1mL\u001b[22m\u001b[0m\u001b[1ms\u001b[22m\u001b[0m\u001b[1mq\u001b[22m\u001b[0m\u001b[1mS\u001b[22m\u001b[0m\u001b[1mt\u001b[22m\u001b[0m\u001b[1me\u001b[22m\u001b[0m\u001b[1mp\u001b[22m\u001b[0m\u001b[1ms\u001b[22m\u001b[0m\u001b[1mi\u001b[22m\u001b[0m\u001b[1mz\u001b[22m\u001b[0m\u001b[1me\u001b[22m\n",
      "\n"
     ]
    },
    {
     "data": {
      "text/latex": [
       "\\begin{verbatim}\n",
       "LsqStepsize(x_data, x_train, y_train[, tau=0; bins_y, bins_x, warn=false, decay=false])\n",
       "\\end{verbatim}\n",
       "Adapt the step size by solving a least squares objective in the search direction of the current iteration.\n",
       "\n",
       "The arguments of this function reflect a discretized deconvolution problem, as used in RUN. Setting \\texttt{decay=true} will enforce that a\\emph{k+1 <= a}k, i.e. the step sizes never increase.\n",
       "\n",
       "\\textbf{See also:} \\texttt{OptimizedStepsize}.\n",
       "\n"
      ],
      "text/markdown": [
       "```\n",
       "LsqStepsize(x_data, x_train, y_train[, tau=0; bins_y, bins_x, warn=false, decay=false])\n",
       "```\n",
       "\n",
       "Adapt the step size by solving a least squares objective in the search direction of the current iteration.\n",
       "\n",
       "The arguments of this function reflect a discretized deconvolution problem, as used in RUN. Setting `decay=true` will enforce that a*k+1 <= a*k, i.e. the step sizes never increase.\n",
       "\n",
       "**See also:** `OptimizedStepsize`.\n"
      ],
      "text/plain": [
       "\u001b[36m  LsqStepsize(x_data, x_train, y_train[, tau=0; bins_y, bins_x, warn=false, decay=false])\u001b[39m\n",
       "\n",
       "  Adapt the step size by solving a least squares objective in the search\n",
       "  direction of the current iteration.\n",
       "\n",
       "  The arguments of this function reflect a discretized deconvolution problem,\n",
       "  as used in RUN. Setting \u001b[36mdecay=true\u001b[39m will enforce that a\u001b[4mk+1 <= a\u001b[24mk, i.e. the\n",
       "  step sizes never increase.\n",
       "\n",
       "  \u001b[1mSee also:\u001b[22m \u001b[36mOptimizedStepsize\u001b[39m."
      ]
     },
     "execution_count": 5,
     "metadata": {},
     "output_type": "execute_result"
    }
   ],
   "source": [
    "?LsqStepsize"
   ]
  },
  {
   "cell_type": "code",
   "execution_count": 6,
   "metadata": {},
   "outputs": [
    {
     "name": "stdout",
     "output_type": "stream",
     "text": [
      "search: \u001b[0m\u001b[1mE\u001b[22m\u001b[0m\u001b[1mx\u001b[22m\u001b[0m\u001b[1mp\u001b[22m\u001b[0m\u001b[1mD\u001b[22m\u001b[0m\u001b[1me\u001b[22m\u001b[0m\u001b[1mc\u001b[22m\u001b[0m\u001b[1ma\u001b[22m\u001b[0m\u001b[1my\u001b[22m\u001b[0m\u001b[1mS\u001b[22m\u001b[0m\u001b[1mt\u001b[22m\u001b[0m\u001b[1me\u001b[22m\u001b[0m\u001b[1mp\u001b[22m\u001b[0m\u001b[1ms\u001b[22m\u001b[0m\u001b[1mi\u001b[22m\u001b[0m\u001b[1mz\u001b[22m\u001b[0m\u001b[1me\u001b[22m\n",
      "\n"
     ]
    },
    {
     "data": {
      "text/latex": [
       "\\begin{verbatim}\n",
       "ExpDecayStepsize(eta, a=1.0)\n",
       "\\end{verbatim}\n",
       "Reduce the first stepsize \\texttt{a} by \\texttt{eta} in each iteration:\n",
       "\n",
       "\\begin{verbatim}\n",
       "stepsize(ExpDecayStepsize(eta, a), k, ...) == a * eta^(k-1)\n",
       "\\end{verbatim}\n"
      ],
      "text/markdown": [
       "```\n",
       "ExpDecayStepsize(eta, a=1.0)\n",
       "```\n",
       "\n",
       "Reduce the first stepsize `a` by `eta` in each iteration:\n",
       "\n",
       "```\n",
       "stepsize(ExpDecayStepsize(eta, a), k, ...) == a * eta^(k-1)\n",
       "```\n"
      ],
      "text/plain": [
       "\u001b[36m  ExpDecayStepsize(eta, a=1.0)\u001b[39m\n",
       "\n",
       "  Reduce the first stepsize \u001b[36ma\u001b[39m by \u001b[36meta\u001b[39m in each iteration:\n",
       "\n",
       "\u001b[36m  stepsize(ExpDecayStepsize(eta, a), k, ...) == a * eta^(k-1)\u001b[39m"
      ]
     },
     "execution_count": 6,
     "metadata": {},
     "output_type": "execute_result"
    }
   ],
   "source": [
    "?ExpDecayStepsize"
   ]
  },
  {
   "cell_type": "code",
   "execution_count": 7,
   "metadata": {},
   "outputs": [
    {
     "name": "stdout",
     "output_type": "stream",
     "text": [
      "search: \u001b[0m\u001b[1mM\u001b[22m\u001b[0m\u001b[1mu\u001b[22m\u001b[0m\u001b[1ml\u001b[22m\u001b[0m\u001b[1mD\u001b[22m\u001b[0m\u001b[1me\u001b[22m\u001b[0m\u001b[1mc\u001b[22m\u001b[0m\u001b[1ma\u001b[22m\u001b[0m\u001b[1my\u001b[22m\u001b[0m\u001b[1mS\u001b[22m\u001b[0m\u001b[1mt\u001b[22m\u001b[0m\u001b[1me\u001b[22m\u001b[0m\u001b[1mp\u001b[22m\u001b[0m\u001b[1ms\u001b[22m\u001b[0m\u001b[1mi\u001b[22m\u001b[0m\u001b[1mz\u001b[22m\u001b[0m\u001b[1me\u001b[22m\n",
      "\n"
     ]
    },
    {
     "data": {
      "text/latex": [
       "\\begin{verbatim}\n",
       "MulDecayStepsize(eta, a=1.0)\n",
       "\\end{verbatim}\n",
       "Reduce the first stepsize \\texttt{a} by \\texttt{eta} in each iteration:\n",
       "\n",
       "\\begin{verbatim}\n",
       "stepsize(MulDecayStepsize(eta, a), k, ...) == a * k^(eta-1)\n",
       "\\end{verbatim}\n"
      ],
      "text/markdown": [
       "```\n",
       "MulDecayStepsize(eta, a=1.0)\n",
       "```\n",
       "\n",
       "Reduce the first stepsize `a` by `eta` in each iteration:\n",
       "\n",
       "```\n",
       "stepsize(MulDecayStepsize(eta, a), k, ...) == a * k^(eta-1)\n",
       "```\n"
      ],
      "text/plain": [
       "\u001b[36m  MulDecayStepsize(eta, a=1.0)\u001b[39m\n",
       "\n",
       "  Reduce the first stepsize \u001b[36ma\u001b[39m by \u001b[36meta\u001b[39m in each iteration:\n",
       "\n",
       "\u001b[36m  stepsize(MulDecayStepsize(eta, a), k, ...) == a * k^(eta-1)\u001b[39m"
      ]
     },
     "execution_count": 7,
     "metadata": {},
     "output_type": "execute_result"
    }
   ],
   "source": [
    "?MulDecayStepsize"
   ]
  },
  {
   "cell_type": "code",
   "execution_count": 8,
   "metadata": {},
   "outputs": [
    {
     "name": "stdout",
     "output_type": "stream",
     "text": [
      "search: \u001b[0m\u001b[1mC\u001b[22m\u001b[0m\u001b[1mo\u001b[22m\u001b[0m\u001b[1mn\u001b[22m\u001b[0m\u001b[1ms\u001b[22m\u001b[0m\u001b[1mt\u001b[22m\u001b[0m\u001b[1ma\u001b[22m\u001b[0m\u001b[1mn\u001b[22m\u001b[0m\u001b[1mt\u001b[22m\u001b[0m\u001b[1mS\u001b[22m\u001b[0m\u001b[1mt\u001b[22m\u001b[0m\u001b[1me\u001b[22m\u001b[0m\u001b[1mp\u001b[22m\u001b[0m\u001b[1ms\u001b[22m\u001b[0m\u001b[1mi\u001b[22m\u001b[0m\u001b[1mz\u001b[22m\u001b[0m\u001b[1me\u001b[22m\n",
      "\n"
     ]
    },
    {
     "data": {
      "text/latex": [
       "\\begin{verbatim}\n",
       "ConstantStepsize(alpha)\n",
       "\\end{verbatim}\n",
       "Choose the constant step size \\texttt{alpha} in every iteration.\n",
       "\n"
      ],
      "text/markdown": [
       "```\n",
       "ConstantStepsize(alpha)\n",
       "```\n",
       "\n",
       "Choose the constant step size `alpha` in every iteration.\n"
      ],
      "text/plain": [
       "\u001b[36m  ConstantStepsize(alpha)\u001b[39m\n",
       "\n",
       "  Choose the constant step size \u001b[36malpha\u001b[39m in every iteration."
      ]
     },
     "execution_count": 8,
     "metadata": {},
     "output_type": "execute_result"
    }
   ],
   "source": [
    "?ConstantStepsize"
   ]
  }
 ],
 "metadata": {
  "kernelspec": {
   "display_name": "Julia 1.3.0",
   "language": "julia",
   "name": "julia-1.3"
  },
  "language_info": {
   "file_extension": ".jl",
   "mimetype": "application/julia",
   "name": "julia",
   "version": "1.3.0"
  }
 },
 "nbformat": 4,
 "nbformat_minor": 2
}
