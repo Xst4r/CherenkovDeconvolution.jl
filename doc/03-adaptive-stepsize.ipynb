{
 "cells": [
  {
   "cell_type": "markdown",
   "metadata": {},
   "source": [
    "# The Stepsize of DSEA+\n",
    "\n",
    "DSEA+ extends the original DSEA with an adaptively chosen stepsize between iterations. This tutorial assumes you already know the other notebook at `doc/01-getting-started.ipynb`."
   ]
  },
  {
   "cell_type": "code",
   "execution_count": null,
   "metadata": {},
   "outputs": [],
   "source": [
    "using CherenkovDeconvolution\n",
    "using ScikitLearn, MLDataUtils, Random\n",
    "using Discretizers: encode, CategoricalDiscretizer\n",
    "\n",
    "# load the example data, encode labels with integers\n",
    "X, y_labels, _ = load_iris()\n",
    "y = encode(CategoricalDiscretizer(y_labels), y_labels)\n",
    "\n",
    "# split the data into training and observed data sets\n",
    "Random.seed!(42) # make split reproducible\n",
    "(X_train, y_train), (X_data, y_data) = splitobs(shuffleobs((X', y), obsdim = 1), obsdim = 1)\n",
    "\n",
    "# prepare the arguments for all deconvolution methods\n",
    "@sk_import naive_bayes : GaussianNB # naive Bayes for DSEA\n",
    "binning = TreeBinning(3) # up to 3 clusters for IBU & RUN"
   ]
  },
  {
   "cell_type": "markdown",
   "metadata": {},
   "source": [
    "## Adaptive Step Size\n",
    "\n",
    "The adaptive step size is specified through the `alpha` argument of DSEA. This argument expects a `CherenkovDeconvolution.Stepsize` object, for which CherenkovDeconvolution.jl provides several implementations.\n",
    "\n",
    "The most important implementation, `RunStepsize` uses the objective function of the regularized unfolding (RUN) to determine the step size adaptively. We further specify `epsilon`, the minimum Chi square distance between iterations. Convergence is assumed if the distance drops below this threshold.\n",
    "\n",
    "In this example, convergence is assumed immediately because the input- and output distributions are approximately equal."
   ]
  },
  {
   "cell_type": "code",
   "execution_count": null,
   "metadata": {},
   "outputs": [],
   "source": [
    "stepsize = RunStepsize(binning; decay=true)\n",
    "dsea = DSEA(GaussianNB(); K=100, epsilon=1e-6, stepsize=stepsize)\n",
    "f_dsea = deconvolve(dsea, X_data, X_train, y_train)"
   ]
  },
  {
   "cell_type": "markdown",
   "metadata": {},
   "source": [
    "## Other Step Sizes\n",
    "\n",
    "Another adaptive step size, based on a least-square objective, is the `LsqStepsize`. Two decaying step sizes can be obtained with `ExpDecayStepsize` and `MulDecayStepsize`. There is also a `ConstantStepsize`.\n",
    "\n",
    "If you want to implement additional step size strategies, you only need an implementation of the `stepsize` method for a custom `Stepsize` type.\n",
    "\n",
    "## Further Documentation"
   ]
  },
  {
   "cell_type": "code",
   "execution_count": null,
   "metadata": {},
   "outputs": [],
   "source": [
    "?Stepsizes.value"
   ]
  },
  {
   "cell_type": "code",
   "execution_count": null,
   "metadata": {},
   "outputs": [],
   "source": [
    "?RunStepsize"
   ]
  },
  {
   "cell_type": "code",
   "execution_count": null,
   "metadata": {},
   "outputs": [],
   "source": [
    "?LsqStepsize"
   ]
  },
  {
   "cell_type": "code",
   "execution_count": null,
   "metadata": {},
   "outputs": [],
   "source": [
    "?ExpDecayStepsize"
   ]
  },
  {
   "cell_type": "code",
   "execution_count": null,
   "metadata": {},
   "outputs": [],
   "source": [
    "?MulDecayStepsize"
   ]
  },
  {
   "cell_type": "code",
   "execution_count": null,
   "metadata": {},
   "outputs": [],
   "source": [
    "?ConstantStepsize"
   ]
  },
  {
   "cell_type": "code",
   "execution_count": null,
   "metadata": {},
   "outputs": [],
   "source": [
    "?DEFAULT_STEPSIZE"
   ]
  }
 ],
 "metadata": {
  "kernelspec": {
   "display_name": "Julia 1.3.0",
   "language": "julia",
   "name": "julia-1.3"
  },
  "language_info": {
   "file_extension": ".jl",
   "mimetype": "application/julia",
   "name": "julia",
   "version": "1.3.0"
  }
 },
 "nbformat": 4,
 "nbformat_minor": 2
}
