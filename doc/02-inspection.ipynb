{
 "cells": [
  {
   "cell_type": "markdown",
   "metadata": {},
   "source": [
    "# Inspection of Intermediate Results\n",
    "\n",
    "In iterative algorithms like DSEA, IBU, and RUN you may want to inspect intermediate results. This tutorial assumes you already know the other notebook at `doc/01-getting-started.ipynb`."
   ]
  },
  {
   "cell_type": "code",
   "execution_count": 1,
   "metadata": {},
   "outputs": [],
   "source": [
    "using CherenkovDeconvolution\n",
    "using ScikitLearn, MLDataUtils, Random\n",
    "using Discretizers: encode, CategoricalDiscretizer\n",
    "\n",
    "# load the example data, encode labels with integers\n",
    "X, y_labels, _ = load_iris()\n",
    "y = encode(CategoricalDiscretizer(y_labels), y_labels)\n",
    "\n",
    "# split the data into training and observed data sets\n",
    "Random.seed!(42) # make split reproducible\n",
    "(X_train, y_train), (X_data, y_data) = splitobs(shuffleobs((X', y), obsdim = 1), obsdim = 1)\n",
    "\n",
    "# discretize the feature space\n",
    "td = DeconvLearn.TreeDiscretizer(X_train, y_train, 3) # obtain up to 3 clusters\n",
    "x_train = encode(td, X_train)\n",
    "x_data  = encode(td, X_data)\n",
    "\n",
    "# also prepare the classifier for DSEA\n",
    "@sk_import naive_bayes : GaussianNB\n",
    "tp_function = DeconvLearn.train_and_predict_proba(GaussianNB());"
   ]
  },
  {
   "cell_type": "markdown",
   "metadata": {},
   "source": [
    "## Inspection in DSEA\n",
    "\n",
    "Inspection is realized through the keyword argument `inspect` available in all iterative algorithms. This argument accept a `Function` object, which will be called in each iteration of the deconvolution algorithm. Depending on the algorithm, this `Function` object has to have different signatures.\n",
    "\n",
    "For DSEA, the `inspect` function has to have the following signature:\n",
    "\n",
    "    (f_k::Vector, k::Int, chi2s::Float64, alpha::Float64) -> Any\n",
    "\n",
    "You do not have to stick to the parameter names (`f_k`, `k`, etc) and you do not even have to specify the types of the arguments explicitly. However, these are the types that the parameters will have, so do not expect anything else. The return value of the `inspect` function is never used, so you can return any value, including `nothing`.\n",
    "\n",
    "The first parameter of `inspect`, `f_k`, refers to the intermediate result of the `k`-th iteration. `chi2s` is the Chi-Square distance between `f_k` and the previous estimate. This distance may be used to check convergence. `alpha` is the step size used in the `k`-th iteration of DSEA."
   ]
  },
  {
   "cell_type": "code",
   "execution_count": 2,
   "metadata": {},
   "outputs": [
    {
     "name": "stderr",
     "output_type": "stream",
     "text": [
      "┌ Info: DSEA iteration 1/3 uses alpha = 1.0 (chi2s = 0.0028011676660929232)\n",
      "└ @ CherenkovDeconvolution /home/bunse/.julia/dev/CherenkovDeconvolution/src/methods/dsea.jl:154\n",
      "┌ Info: DSEA iteration 2/3 uses alpha = 1.0 (chi2s = 1.9904724192671642e-5)\n",
      "└ @ CherenkovDeconvolution /home/bunse/.julia/dev/CherenkovDeconvolution/src/methods/dsea.jl:154\n",
      "┌ Info: DSEA iteration 3/3 uses alpha = 1.0 (chi2s = 1.4392542975822753e-7)\n",
      "└ @ CherenkovDeconvolution /home/bunse/.julia/dev/CherenkovDeconvolution/src/methods/dsea.jl:154\n"
     ]
    },
    {
     "data": {
      "text/plain": [
       "3-element Array{Float64,1}:\n",
       " 0.3333333327459093 \n",
       " 0.35690069352953485\n",
       " 0.30976597372455583"
      ]
     },
     "execution_count": 2,
     "metadata": {},
     "output_type": "execute_result"
    }
   ],
   "source": [
    "# we want to store all inspection results in a single DataFrame\n",
    "using DataFrames\n",
    "df = DataFrame(f=Vector{Float64}[], k=Int[], chi2s=Float64[], a=Float64[]) # empty frame with fixed types\n",
    "\n",
    "# set up the inspection function\n",
    "inspect_function = (f, k, chi2s, a) -> push!(df, [f, k, chi2s, a]) # store results in df\n",
    "\n",
    "# provide inspect_function as a keyword argument to DSEA, make 3 iterations and return the final result\n",
    "f_dsea = dsea(X_data, X_train, y_train, tp_function,\n",
    "              K=3, inspect=inspect_function)"
   ]
  },
  {
   "cell_type": "code",
   "execution_count": 3,
   "metadata": {},
   "outputs": [
    {
     "data": {
      "text/html": [
       "<table class=\"data-frame\"><thead><tr><th></th><th>f</th><th>k</th><th>chi2s</th><th>a</th></tr><tr><th></th><th>Array…</th><th>Int64</th><th>Float64</th><th>Float64</th></tr></thead><tbody><p>4 rows × 4 columns</p><tr><th>1</th><td>[0.333333, 0.333333, 0.333333]</td><td>0</td><td>NaN</td><td>NaN</td></tr><tr><th>2</th><td>[0.333333, 0.354929, 0.311738]</td><td>1</td><td>0.00280117</td><td>1.0</td></tr><tr><th>3</th><td>[0.333333, 0.356746, 0.30992]</td><td>2</td><td>1.99047e-5</td><td>1.0</td></tr><tr><th>4</th><td>[0.333333, 0.356901, 0.309766]</td><td>3</td><td>1.43925e-7</td><td>1.0</td></tr></tbody></table>"
      ],
      "text/latex": [
       "\\begin{tabular}{r|cccc}\n",
       "\t& f & k & chi2s & a\\\\\n",
       "\t\\hline\n",
       "\t& Array… & Int64 & Float64 & Float64\\\\\n",
       "\t\\hline\n",
       "\t1 & [0.333333, 0.333333, 0.333333] & 0 & NaN & NaN \\\\\n",
       "\t2 & [0.333333, 0.354929, 0.311738] & 1 & 0.00280117 & 1.0 \\\\\n",
       "\t3 & [0.333333, 0.356746, 0.30992] & 2 & 1.99047e-5 & 1.0 \\\\\n",
       "\t4 & [0.333333, 0.356901, 0.309766] & 3 & 1.43925e-7 & 1.0 \\\\\n",
       "\\end{tabular}\n"
      ],
      "text/plain": [
       "4×4 DataFrame\n",
       "│ Row │ f                              │ k     │ chi2s      │ a       │\n",
       "│     │ \u001b[90mArray{Float64,1}\u001b[39m               │ \u001b[90mInt64\u001b[39m │ \u001b[90mFloat64\u001b[39m    │ \u001b[90mFloat64\u001b[39m │\n",
       "├─────┼────────────────────────────────┼───────┼────────────┼─────────┤\n",
       "│ 1   │ [0.333333, 0.333333, 0.333333] │ 0     │ NaN        │ NaN     │\n",
       "│ 2   │ [0.333333, 0.354929, 0.311738] │ 1     │ 0.00280117 │ 1.0     │\n",
       "│ 3   │ [0.333333, 0.356746, 0.30992]  │ 2     │ 1.99047e-5 │ 1.0     │\n",
       "│ 4   │ [0.333333, 0.356901, 0.309766] │ 3     │ 1.43925e-7 │ 1.0     │"
      ]
     },
     "execution_count": 3,
     "metadata": {},
     "output_type": "execute_result"
    }
   ],
   "source": [
    "# let's have a look at the DataFrame - beautiful, isn't it?\n",
    "df"
   ]
  },
  {
   "cell_type": "markdown",
   "metadata": {},
   "source": [
    "## Inspection in RUN and IBU\n",
    "\n",
    "IBU is inspected just like DSEA. The `inspect` function of RUN, however, has a different signature:\n",
    "\n",
    "    (f_k::Array, k::Int, ldiff::Float64, tau::Float64) -> Any\n",
    "\n",
    "Here, `ldiff` stores the difference in the likelihood loss of RUN between two iterations. `tau` is the regularization parameter chosen in the `k`-th iteration."
   ]
  },
  {
   "cell_type": "code",
   "execution_count": 4,
   "metadata": {},
   "outputs": [
    {
     "name": "stdout",
     "output_type": "stream",
     "text": [
      "This is iteration 0 with chi2s=NaN\n",
      "This is iteration 1 with chi2s=0.0010670935040682943\n",
      "This is iteration 2 with chi2s=4.204562475856572e-5\n",
      "This is iteration 3 with chi2s=1.78948873920693e-6\n"
     ]
    },
    {
     "data": {
      "text/plain": [
       "3-element Array{Float64,1}:\n",
       " 0.3333333333333333 \n",
       " 0.31680990030938466\n",
       " 0.349856766357282  "
      ]
     },
     "execution_count": 4,
     "metadata": {},
     "output_type": "execute_result"
    }
   ],
   "source": [
    "# set up an inspection function for IBU - do not store anything, just print\n",
    "inspect_ibu = (f, k, chi2s, alpha) -> println(\"This is iteration $k with chi2s=$chi2s\")\n",
    "\n",
    "f_ibu = ibu(x_data, x_train, y_train, inspect=inspect_ibu) # by default, IBU stops after 3 iterations"
   ]
  }
 ],
 "metadata": {
  "kernelspec": {
   "display_name": "Julia 1.3.0",
   "language": "julia",
   "name": "julia-1.3"
  },
  "language_info": {
   "file_extension": ".jl",
   "mimetype": "application/julia",
   "name": "julia",
   "version": "1.3.0"
  }
 },
 "nbformat": 4,
 "nbformat_minor": 2
}
