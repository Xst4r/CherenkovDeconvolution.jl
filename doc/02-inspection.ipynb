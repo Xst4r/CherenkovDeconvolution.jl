{
 "cells": [
  {
   "cell_type": "markdown",
   "metadata": {},
   "source": [
    "# Inspection of Intermediate Results\n",
    "\n",
    "In iterative algorithms like DSEA, IBU, and RUN you may want to inspect intermediate results. This tutorial assumes you already know the other notebook at `doc/01-getting-started.ipynb`."
   ]
  },
  {
   "cell_type": "code",
   "execution_count": null,
   "metadata": {},
   "outputs": [],
   "source": [
    "using CherenkovDeconvolution\n",
    "using ScikitLearn, MLDataUtils, Random\n",
    "using Discretizers: encode, CategoricalDiscretizer\n",
    "\n",
    "# load the example data, encode labels with integers\n",
    "X, y_labels, _ = load_iris()\n",
    "y = encode(CategoricalDiscretizer(y_labels), y_labels)\n",
    "\n",
    "# split the data into training and observed data sets\n",
    "Random.seed!(42) # make split reproducible\n",
    "(X_train, y_train), (X_data, y_data) = splitobs(shuffleobs((X', y), obsdim = 1), obsdim = 1)\n",
    "\n",
    "# prepare the arguments for all deconvolution methods\n",
    "@sk_import naive_bayes : GaussianNB # naive Bayes for DSEA\n",
    "binning = TreeBinning(3) # up to 3 clusters for IBU & RUN"
   ]
  },
  {
   "cell_type": "markdown",
   "metadata": {},
   "source": [
    "## Inspection in DSEA\n",
    "\n",
    "Inspection is realized through the keyword argument `inspect` available in all iterative algorithms. This argument accept a `Function` object, which will be called in each iteration of the deconvolution algorithm. Depending on the algorithm, this `Function` object has to have different signatures.\n",
    "\n",
    "For DSEA, the `inspect` function has to have the following signature:\n",
    "\n",
    "    (f_k::Vector, k::Int, chi2s::Float64, alpha::Float64) -> Any\n",
    "\n",
    "You do not have to stick to the parameter names (`f_k`, `k`, etc) and you do not even have to specify the types of the arguments explicitly. However, these are the types that the parameters will have, so do not expect anything else. The return value of the `inspect` function is never used, so you can return any value, including `nothing`.\n",
    "\n",
    "The first parameter of `inspect`, `f_k`, refers to the intermediate result of the `k`-th iteration. `chi2s` is the Chi-Square distance between `f_k` and the previous estimate. This distance may be used to check convergence. `alpha` is the step size used in the `k`-th iteration of DSEA."
   ]
  },
  {
   "cell_type": "code",
   "execution_count": null,
   "metadata": {},
   "outputs": [],
   "source": [
    "# we want to store all inspection results in a single DataFrame\n",
    "using DataFrames\n",
    "df = DataFrame(f=Vector{Float64}[], k=Int[], chi2s=Float64[], a=Float64[]) # empty frame with fixed types\n",
    "\n",
    "# set up the inspection function\n",
    "inspect_function = (f, k, chi2s, a) -> push!(df, [f, k, chi2s, a]) # store results in df\n",
    "\n",
    "# provide inspect_function as a keyword argument to DSEA, make 3 iterations and return the final result\n",
    "dsea = DSEA(GaussianNB(); K=3, inspect=inspect_function)\n",
    "deconvolve(dsea, X_data, X_train, y_train)"
   ]
  },
  {
   "cell_type": "code",
   "execution_count": null,
   "metadata": {},
   "outputs": [],
   "source": [
    "# let's have a look at the DataFrame - beautiful, isn't it?\n",
    "df"
   ]
  },
  {
   "cell_type": "markdown",
   "metadata": {},
   "source": [
    "## Inspection in RUN and IBU\n",
    "\n",
    "IBU is inspected just like DSEA. The `inspect` function of RUN, however, has a different signature:\n",
    "\n",
    "    (f_k::Array, k::Int, ldiff::Float64, tau::Float64) -> Any\n",
    "\n",
    "Here, `ldiff` stores the difference in the likelihood loss of RUN between two iterations. `tau` is the regularization parameter chosen in the `k`-th iteration."
   ]
  },
  {
   "cell_type": "code",
   "execution_count": null,
   "metadata": {},
   "outputs": [],
   "source": [
    "# set up an inspection function for IBU - do not store anything, just print\n",
    "inspect_ibu = (f, k, chi2s, alpha) -> println(\"This is iteration $k with chi2s=$chi2s\")\n",
    "\n",
    "ibu = IBU(binning; inspect=inspect_ibu) # by default, IBU stops after 3 iterations\n",
    "deconvolve(ibu, X_data, X_train, y_train)"
   ]
  }
 ],
 "metadata": {
  "kernelspec": {
   "display_name": "Julia 1.3.0",
   "language": "julia",
   "name": "julia-1.3"
  },
  "language_info": {
   "file_extension": ".jl",
   "mimetype": "application/julia",
   "name": "julia",
   "version": "1.3.0"
  }
 },
 "nbformat": 4,
 "nbformat_minor": 2
}
