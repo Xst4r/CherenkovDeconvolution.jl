{
 "cells": [
  {
   "cell_type": "markdown",
   "metadata": {},
   "source": [
    "# The Stepsize of DSEA+\n",
    "\n",
    "DSEA+ extends the original DSEA with an adaptively chosen stepsize between iterations. This tutorial assumes you already know the other notebook at `example/getting-started.ipynb`."
   ]
  },
  {
   "cell_type": "code",
   "execution_count": 1,
   "metadata": {},
   "outputs": [],
   "source": [
    "using CherenkovDeconvolution\n",
    "using ScikitLearn, MLDataUtils, Random\n",
    "using Discretizers: encode, CategoricalDiscretizer\n",
    "\n",
    "# load the example data, encode labels with integers\n",
    "X, y_labels, _ = load_iris()\n",
    "y = encode(CategoricalDiscretizer(y_labels), y_labels)\n",
    "\n",
    "# split the data into training and observed data sets\n",
    "Random.seed!(42) # make split reproducible\n",
    "(X_train, y_train), (X_data, y_data) = splitobs(shuffleobs((X', y), obsdim = 1), obsdim = 1)\n",
    "\n",
    "# discretize the feature space\n",
    "td = DeconvLearn.TreeDiscretizer(X_train, y_train, 3) # obtain up to 3 clusters\n",
    "x_train = encode(td, X_train)\n",
    "x_data  = encode(td, X_data)\n",
    "\n",
    "# also prepare the classifier for DSEA\n",
    "@sk_import naive_bayes : GaussianNB\n",
    "tp_function = DeconvLearn.train_and_predict_proba(GaussianNB());"
   ]
  },
  {
   "cell_type": "markdown",
   "metadata": {},
   "source": [
    "## Adaptive Step Size\n",
    "\n",
    "The adaptive step size is specified through the `alpha` argument of DSEA. This argument expects a `Function` object, for which CherenkovDeconvolution.jl provides several factory methods.\n",
    "\n",
    "The most important factory uses the objective function of the regularized unfolding (RUN) to determine the step size adaptively. We further specify `epsilon`, the minimum Chi square distance between iterations. Convergence is assumed if the distance drops below this threshold.\n",
    "\n",
    "In this example, convergence is assumed immediately."
   ]
  },
  {
   "cell_type": "code",
   "execution_count": 2,
   "metadata": {},
   "outputs": [
    {
     "name": "stderr",
     "output_type": "stream",
     "text": [
      "┌ Info: DSEA iteration 1/100 uses alpha = 2.828411083473901e-13 (chi2s = 2.237160223400213e-28)\n",
      "└ @ CherenkovDeconvolution /home/bunse/.julia/dev/CherenkovDeconvolution/src/methods/dsea.jl:154\n",
      "┌ Info: DSEA convergence assumed from chi2s = 2.237160223400213e-28 < epsilon = 1.0e-6\n",
      "└ @ CherenkovDeconvolution /home/bunse/.julia/dev/CherenkovDeconvolution/src/methods/dsea.jl:159\n"
     ]
    },
    {
     "data": {
      "text/plain": [
       "3-element Array{Float64,1}:\n",
       " 0.3333333333333333\n",
       " 0.3333333333333394\n",
       " 0.3333333333333272"
      ]
     },
     "execution_count": 2,
     "metadata": {},
     "output_type": "execute_result"
    }
   ],
   "source": [
    "alpha_function = alpha_adaptive_run(x_data, x_train, convert(Vector{Int64}, y_train)) # returns a Function object\n",
    "f_dsea = dsea(X_data, X_train, y_train, tp_function, K=100, epsilon=1e-6, alpha=alpha_function)"
   ]
  },
  {
   "cell_type": "markdown",
   "metadata": {},
   "source": [
    "## Other Step Sizes\n",
    "\n",
    "Two decaying step sizes can be obtained with `alpha_decay_exp` and `alpha_decay_mul`. For constant step sizes, a `Float64` can directly be given as the `alpha` parameter.\n",
    "\n",
    "You can further define custom `alpha` functions. In general, such a function has to have the following signature:\n",
    "\n",
    "    (k::Int, pk::Vector{Float64}, f::Vector{Float64}) -> Float64\n",
    "\n",
    "The first parameter in this signature specifies the current iteration number. `pk` defines the step, i.e. the difference between the next and current estimate. Finally, `f` gives the current estimate before the step `pk` is taken.\n",
    "\n",
    "## Further Documentation"
   ]
  },
  {
   "cell_type": "code",
   "execution_count": 3,
   "metadata": {},
   "outputs": [
    {
     "name": "stdout",
     "output_type": "stream",
     "text": [
      "search: \u001b[0m\u001b[1ma\u001b[22m\u001b[0m\u001b[1ml\u001b[22m\u001b[0m\u001b[1mp\u001b[22m\u001b[0m\u001b[1mh\u001b[22m\u001b[0m\u001b[1ma\u001b[22m\u001b[0m\u001b[1m_\u001b[22m\u001b[0m\u001b[1ma\u001b[22m\u001b[0m\u001b[1md\u001b[22m\u001b[0m\u001b[1ma\u001b[22m\u001b[0m\u001b[1mp\u001b[22m\u001b[0m\u001b[1mt\u001b[22m\u001b[0m\u001b[1mi\u001b[22m\u001b[0m\u001b[1mv\u001b[22m\u001b[0m\u001b[1me\u001b[22m\u001b[0m\u001b[1m_\u001b[22m\u001b[0m\u001b[1mr\u001b[22m\u001b[0m\u001b[1mu\u001b[22m\u001b[0m\u001b[1mn\u001b[22m\n",
      "\n"
     ]
    },
    {
     "data": {
      "text/latex": [
       "\\begin{verbatim}\n",
       "alpha_adaptive_run(x_data, x_train, y_train[, tau=0; bins_y, bins_x, warn=false])\n",
       "\\end{verbatim}\n",
       "Return a \\texttt{Function} object with the signature required by the \\texttt{alpha} parameter in \\texttt{dsea}. This object adapts the DSEA step size to the current estimate by maximizing the likelihood of the next estimate in the search direction of the current iteration.\n",
       "\n"
      ],
      "text/markdown": [
       "```\n",
       "alpha_adaptive_run(x_data, x_train, y_train[, tau=0; bins_y, bins_x, warn=false])\n",
       "```\n",
       "\n",
       "Return a `Function` object with the signature required by the `alpha` parameter in `dsea`. This object adapts the DSEA step size to the current estimate by maximizing the likelihood of the next estimate in the search direction of the current iteration.\n"
      ],
      "text/plain": [
       "\u001b[36m  alpha_adaptive_run(x_data, x_train, y_train[, tau=0; bins_y, bins_x, warn=false])\u001b[39m\n",
       "\n",
       "  Return a \u001b[36mFunction\u001b[39m object with the signature required by the \u001b[36malpha\u001b[39m parameter\n",
       "  in \u001b[36mdsea\u001b[39m. This object adapts the DSEA step size to the current estimate by\n",
       "  maximizing the likelihood of the next estimate in the search direction of\n",
       "  the current iteration."
      ]
     },
     "execution_count": 3,
     "metadata": {},
     "output_type": "execute_result"
    }
   ],
   "source": [
    "?alpha_adaptive_run"
   ]
  },
  {
   "cell_type": "code",
   "execution_count": 4,
   "metadata": {},
   "outputs": [
    {
     "name": "stdout",
     "output_type": "stream",
     "text": [
      "search: \u001b[0m\u001b[1ma\u001b[22m\u001b[0m\u001b[1ml\u001b[22m\u001b[0m\u001b[1mp\u001b[22m\u001b[0m\u001b[1mh\u001b[22m\u001b[0m\u001b[1ma\u001b[22m\u001b[0m\u001b[1m_\u001b[22m\u001b[0m\u001b[1md\u001b[22m\u001b[0m\u001b[1me\u001b[22m\u001b[0m\u001b[1mc\u001b[22m\u001b[0m\u001b[1ma\u001b[22m\u001b[0m\u001b[1my\u001b[22m\u001b[0m\u001b[1m_\u001b[22m\u001b[0m\u001b[1me\u001b[22m\u001b[0m\u001b[1mx\u001b[22m\u001b[0m\u001b[1mp\u001b[22m \u001b[0m\u001b[1ma\u001b[22m\u001b[0m\u001b[1ml\u001b[22m\u001b[0m\u001b[1mp\u001b[22m\u001b[0m\u001b[1mh\u001b[22m\u001b[0m\u001b[1ma\u001b[22m\u001b[0m\u001b[1m_\u001b[22m\u001b[0m\u001b[1md\u001b[22m\u001b[0m\u001b[1me\u001b[22m\u001b[0m\u001b[1mc\u001b[22m\u001b[0m\u001b[1ma\u001b[22m\u001b[0m\u001b[1my\u001b[22m\u001b[0m\u001b[1m_\u001b[22mmul\n",
      "\n"
     ]
    },
    {
     "data": {
      "text/latex": [
       "\\begin{verbatim}\n",
       "alpha_decay_exp(eta::Float64, a_1::Float64=1.0)\n",
       "\\end{verbatim}\n",
       "Return a \\texttt{Function} object with the signature required by the \\texttt{alpha} parameter in \\texttt{dsea}. This object reduces the \\texttt{a\\_1} stepsize taken in iteration 1 by \\texttt{eta} in each subsequent iteration:\n",
       "\n",
       "\\begin{verbatim}\n",
       "alpha = a_1 * eta^(k-1).\n",
       "\\end{verbatim}\n"
      ],
      "text/markdown": [
       "```\n",
       "alpha_decay_exp(eta::Float64, a_1::Float64=1.0)\n",
       "```\n",
       "\n",
       "Return a `Function` object with the signature required by the `alpha` parameter in `dsea`. This object reduces the `a_1` stepsize taken in iteration 1 by `eta` in each subsequent iteration:\n",
       "\n",
       "```\n",
       "alpha = a_1 * eta^(k-1).\n",
       "```\n"
      ],
      "text/plain": [
       "\u001b[36m  alpha_decay_exp(eta::Float64, a_1::Float64=1.0)\u001b[39m\n",
       "\n",
       "  Return a \u001b[36mFunction\u001b[39m object with the signature required by the \u001b[36malpha\u001b[39m parameter\n",
       "  in \u001b[36mdsea\u001b[39m. This object reduces the \u001b[36ma_1\u001b[39m stepsize taken in iteration 1 by \u001b[36meta\u001b[39m in\n",
       "  each subsequent iteration:\n",
       "\n",
       "\u001b[36m  alpha = a_1 * eta^(k-1).\u001b[39m"
      ]
     },
     "execution_count": 4,
     "metadata": {},
     "output_type": "execute_result"
    }
   ],
   "source": [
    "?alpha_decay_exp"
   ]
  },
  {
   "cell_type": "code",
   "execution_count": 5,
   "metadata": {},
   "outputs": [
    {
     "name": "stdout",
     "output_type": "stream",
     "text": [
      "search: \u001b[0m\u001b[1ma\u001b[22m\u001b[0m\u001b[1ml\u001b[22m\u001b[0m\u001b[1mp\u001b[22m\u001b[0m\u001b[1mh\u001b[22m\u001b[0m\u001b[1ma\u001b[22m\u001b[0m\u001b[1m_\u001b[22m\u001b[0m\u001b[1md\u001b[22m\u001b[0m\u001b[1me\u001b[22m\u001b[0m\u001b[1mc\u001b[22m\u001b[0m\u001b[1ma\u001b[22m\u001b[0m\u001b[1my\u001b[22m\u001b[0m\u001b[1m_\u001b[22m\u001b[0m\u001b[1mm\u001b[22m\u001b[0m\u001b[1mu\u001b[22m\u001b[0m\u001b[1ml\u001b[22m \u001b[0m\u001b[1ma\u001b[22m\u001b[0m\u001b[1ml\u001b[22m\u001b[0m\u001b[1mp\u001b[22m\u001b[0m\u001b[1mh\u001b[22m\u001b[0m\u001b[1ma\u001b[22m\u001b[0m\u001b[1m_\u001b[22m\u001b[0m\u001b[1md\u001b[22m\u001b[0m\u001b[1me\u001b[22m\u001b[0m\u001b[1mc\u001b[22m\u001b[0m\u001b[1ma\u001b[22m\u001b[0m\u001b[1my\u001b[22m\u001b[0m\u001b[1m_\u001b[22mexp\n",
      "\n"
     ]
    },
    {
     "data": {
      "text/latex": [
       "\\begin{verbatim}\n",
       "alpha_decay_mul(eta::Float64, a_1::Float64=1.0)\n",
       "\\end{verbatim}\n",
       "Return a \\texttt{Function} object with the signature required by the \\texttt{alpha} parameter in \\texttt{dsea}. This object reduces the \\texttt{a\\_1} stepsize taken in iteration 1 by \\texttt{eta} in each subsequent iteration:\n",
       "\n",
       "\\begin{verbatim}\n",
       "alpha = a_1 * k ^ (eta-1)\n",
       "\\end{verbatim}\n",
       "For example, eta=.5 yields alpha = 1/sqrt(k).\n",
       "\n"
      ],
      "text/markdown": [
       "```\n",
       "alpha_decay_mul(eta::Float64, a_1::Float64=1.0)\n",
       "```\n",
       "\n",
       "Return a `Function` object with the signature required by the `alpha` parameter in `dsea`. This object reduces the `a_1` stepsize taken in iteration 1 by `eta` in each subsequent iteration:\n",
       "\n",
       "```\n",
       "alpha = a_1 * k ^ (eta-1)\n",
       "```\n",
       "\n",
       "For example, eta=.5 yields alpha = 1/sqrt(k).\n"
      ],
      "text/plain": [
       "\u001b[36m  alpha_decay_mul(eta::Float64, a_1::Float64=1.0)\u001b[39m\n",
       "\n",
       "  Return a \u001b[36mFunction\u001b[39m object with the signature required by the \u001b[36malpha\u001b[39m parameter\n",
       "  in \u001b[36mdsea\u001b[39m. This object reduces the \u001b[36ma_1\u001b[39m stepsize taken in iteration 1 by \u001b[36meta\u001b[39m in\n",
       "  each subsequent iteration:\n",
       "\n",
       "\u001b[36m  alpha = a_1 * k ^ (eta-1)\u001b[39m\n",
       "\n",
       "  For example, eta=.5 yields alpha = 1/sqrt(k)."
      ]
     },
     "execution_count": 5,
     "metadata": {},
     "output_type": "execute_result"
    }
   ],
   "source": [
    "?alpha_decay_mul"
   ]
  }
 ],
 "metadata": {
  "kernelspec": {
   "display_name": "Julia 1.3.0",
   "language": "julia",
   "name": "julia-1.3"
  },
  "language_info": {
   "file_extension": ".jl",
   "mimetype": "application/julia",
   "name": "julia",
   "version": "1.3.0"
  }
 },
 "nbformat": 4,
 "nbformat_minor": 2
}
